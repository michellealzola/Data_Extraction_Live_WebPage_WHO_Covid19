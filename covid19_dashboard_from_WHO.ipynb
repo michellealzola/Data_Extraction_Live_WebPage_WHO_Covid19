{
 "cells": [
  {
   "cell_type": "code",
   "execution_count": 1,
   "metadata": {
    "collapsed": true
   },
   "outputs": [],
   "source": [
    "# 1.1 The COVID-19 dashboard from the World Health Organization:\n",
    "# https://covid19.who.int/table"
   ]
  },
  {
   "cell_type": "code",
   "execution_count": 2,
   "metadata": {},
   "outputs": [],
   "source": [
    "import pandas as pd\n",
    "import requests\n",
    "import matplotlib.pyplot as plt\n",
    "from bs4 import BeautifulSoup\n"
   ]
  },
  {
   "cell_type": "code",
   "execution_count": 3,
   "metadata": {},
   "outputs": [],
   "source": [
    "url = 'https://covid19.who.int/table'\n"
   ]
  },
  {
   "cell_type": "code",
   "execution_count": 4,
   "outputs": [],
   "source": [
    "page = requests.get(url)\n"
   ],
   "metadata": {
    "collapsed": false
   }
  },
  {
   "cell_type": "code",
   "execution_count": 5,
   "outputs": [],
   "source": [
    "soup = BeautifulSoup(page.content, 'html.parser')\n"
   ],
   "metadata": {
    "collapsed": false
   }
  },
  {
   "cell_type": "code",
   "execution_count": 6,
   "outputs": [
    {
     "data": {
      "text/plain": "''"
     },
     "execution_count": 6,
     "metadata": {},
     "output_type": "execute_result"
    }
   ],
   "source": [
    "soup.title.text\n"
   ],
   "metadata": {
    "collapsed": false
   }
  },
  {
   "cell_type": "code",
   "execution_count": 7,
   "outputs": [],
   "source": [
    "# 1. Extract the total number of confirmed cases and deaths globally or for a\n",
    "# specific country using BeautifulSoup to parse the HTML and Pandas to\n",
    "# manipulate the data.\n"
   ],
   "metadata": {
    "collapsed": false
   }
  },
  {
   "cell_type": "code",
   "execution_count": 8,
   "outputs": [],
   "source": [
    "table = soup.find('div', {'role': 'table'})\n"
   ],
   "metadata": {
    "collapsed": false
   }
  },
  {
   "cell_type": "code",
   "execution_count": 9,
   "outputs": [],
   "source": [
    "case_total = table.find_all('div', {'class': 'th'})\n"
   ],
   "metadata": {
    "collapsed": false
   }
  },
  {
   "cell_type": "code",
   "execution_count": 10,
   "outputs": [],
   "source": [
    "case_total_list = []\n",
    "for value in case_total:\n",
    "    case_total_list.append(value.text)\n"
   ],
   "metadata": {
    "collapsed": false
   }
  },
  {
   "cell_type": "code",
   "execution_count": 11,
   "outputs": [
    {
     "data": {
      "text/plain": "['Name',\n 'Cases - cumulative totalPlatform/C/Chevron/Down CopyCreated with Sketch.',\n 'Cases - newly reported in last 7 days',\n 'Deaths - cumulative total',\n 'Deaths - newly reported in last 7 days',\n 'Total vaccine doses administered per 100 population',\n 'Persons fully vaccinated with last dose of primary series per 100 population',\n 'Persons Boosted per 100 population',\n 'Global',\n '758,390,564',\n '983,089',\n '6,859,093',\n '6,414',\n '169.72',\n '65.1',\n '30.8']"
     },
     "execution_count": 11,
     "metadata": {},
     "output_type": "execute_result"
    }
   ],
   "source": [
    "case_total_list\n"
   ],
   "metadata": {
    "collapsed": false
   }
  },
  {
   "cell_type": "code",
   "execution_count": 12,
   "outputs": [],
   "source": [
    "heading_list = case_total_list[1:8]\n"
   ],
   "metadata": {
    "collapsed": false
   }
  },
  {
   "cell_type": "code",
   "execution_count": 13,
   "outputs": [
    {
     "data": {
      "text/plain": "['Cases - cumulative totalPlatform/C/Chevron/Down CopyCreated with Sketch.',\n 'Cases - newly reported in last 7 days',\n 'Deaths - cumulative total',\n 'Deaths - newly reported in last 7 days',\n 'Total vaccine doses administered per 100 population',\n 'Persons fully vaccinated with last dose of primary series per 100 population',\n 'Persons Boosted per 100 population']"
     },
     "execution_count": 13,
     "metadata": {},
     "output_type": "execute_result"
    }
   ],
   "source": [
    "heading_list\n"
   ],
   "metadata": {
    "collapsed": false
   }
  },
  {
   "cell_type": "code",
   "execution_count": 14,
   "outputs": [],
   "source": [
    "global_values = case_total_list[9:]\n"
   ],
   "metadata": {
    "collapsed": false
   }
  },
  {
   "cell_type": "code",
   "execution_count": 15,
   "outputs": [
    {
     "data": {
      "text/plain": "['758,390,564', '983,089', '6,859,093', '6,414', '169.72', '65.1', '30.8']"
     },
     "execution_count": 15,
     "metadata": {},
     "output_type": "execute_result"
    }
   ],
   "source": [
    "global_values\n"
   ],
   "metadata": {
    "collapsed": false
   }
  },
  {
   "cell_type": "code",
   "execution_count": 16,
   "outputs": [],
   "source": [
    "global_dict = {}\n"
   ],
   "metadata": {
    "collapsed": false
   }
  },
  {
   "cell_type": "code",
   "execution_count": 17,
   "outputs": [],
   "source": [
    "for i in range(len(global_values)):\n",
    "    global_dict[heading_list[i]] = global_values[i]\n"
   ],
   "metadata": {
    "collapsed": false
   }
  },
  {
   "cell_type": "code",
   "execution_count": 18,
   "outputs": [
    {
     "data": {
      "text/plain": "{'Cases - cumulative totalPlatform/C/Chevron/Down CopyCreated with Sketch.': '758,390,564',\n 'Cases - newly reported in last 7 days': '983,089',\n 'Deaths - cumulative total': '6,859,093',\n 'Deaths - newly reported in last 7 days': '6,414',\n 'Total vaccine doses administered per 100 population': '169.72',\n 'Persons fully vaccinated with last dose of primary series per 100 population': '65.1',\n 'Persons Boosted per 100 population': '30.8'}"
     },
     "execution_count": 18,
     "metadata": {},
     "output_type": "execute_result"
    }
   ],
   "source": [
    "global_dict\n"
   ],
   "metadata": {
    "collapsed": false
   }
  },
  {
   "cell_type": "code",
   "execution_count": 19,
   "outputs": [
    {
     "name": "stdout",
     "output_type": "stream",
     "text": [
      "The Global Figures:\n",
      "Cases - cumulative totalPlatform/C/Chevron/Down CopyCreated with Sketch.: 758,390,564\n",
      "Cases - newly reported in last 7 days: 983,089\n",
      "Deaths - cumulative total: 6,859,093\n",
      "Deaths - newly reported in last 7 days: 6,414\n",
      "Total vaccine doses administered per 100 population: 169.72\n",
      "Persons fully vaccinated with last dose of primary series per 100 population: 65.1\n",
      "Persons Boosted per 100 population: 30.8\n"
     ]
    }
   ],
   "source": [
    "print('The Global Figures:')\n",
    "for k, v in global_dict.items():\n",
    "    print(f'{k}: {v}')\n"
   ],
   "metadata": {
    "collapsed": false
   }
  },
  {
   "cell_type": "code",
   "execution_count": 20,
   "outputs": [],
   "source": [
    "# 2. Scrape the daily new cases and deaths data for a particular country\n",
    "# and store it in a Pandas DataFrame for analysis.\n"
   ],
   "metadata": {
    "collapsed": false
   }
  },
  {
   "cell_type": "code",
   "execution_count": 21,
   "outputs": [],
   "source": [
    "country_data = table.find_all('div', {'role': 'row'})\n"
   ],
   "metadata": {
    "collapsed": false
   }
  },
  {
   "cell_type": "code",
   "execution_count": 22,
   "outputs": [],
   "source": [
    "country_data_list = []\n"
   ],
   "metadata": {
    "collapsed": false
   }
  },
  {
   "cell_type": "code",
   "execution_count": 23,
   "outputs": [],
   "source": [
    "for value in country_data:\n",
    "    country_data_list.append(value.text)\n"
   ],
   "metadata": {
    "collapsed": false
   }
  },
  {
   "cell_type": "code",
   "execution_count": 24,
   "outputs": [],
   "source": [
    "df_country_data_list = pd.DataFrame(country_data_list[3:])\n"
   ],
   "metadata": {
    "collapsed": false
   }
  },
  {
   "cell_type": "code",
   "execution_count": 25,
   "outputs": [
    {
     "data": {
      "text/plain": "                                                    0\n0   United States of America102,019,564267,1681,10...\n1      China99,030,12997,455119,865355235.5286.8254.7\n2       India44,686,3711,239530,77110159.7968.9716.49\n3     France38,513,43126,390161,253170234.378.9660.88\n4    Germany38,144,033110,846167,95173232.276.4262.67\n5    Brazil37,024,41734,560698,947891236.2979.7951.29\n6      Japan33,190,29692,34472,320583301.9181.6968.05\n7   Republic of Korea30,513,72167,94633,977104265....\n8      Italy25,576,85216,179188,094130251.882.9675.28\n9   The United Kingdom24,370,1549,356206,95239222....\n10  Russian Federation22,272,47082,482396,10023312...\n11           Türkiye17,004,677101,419165.6360.9433.55\n12      Spain13,763,3367,380119,380194237.379.1755.98\n13         Viet Nam11,526,9058043,186273.5388.2859.33\n14        Australia11,362,27519,370202254.3784.9156.3\n15     Argentina10,044,125817130,4635242.6283.7268.17\n16      Netherlands8,594,1503,42022,992207.468.6954.1\n17  Iran (Islamic Republic of)7,567,702899144,8423...",
      "text/html": "<div>\n<style scoped>\n    .dataframe tbody tr th:only-of-type {\n        vertical-align: middle;\n    }\n\n    .dataframe tbody tr th {\n        vertical-align: top;\n    }\n\n    .dataframe thead th {\n        text-align: right;\n    }\n</style>\n<table border=\"1\" class=\"dataframe\">\n  <thead>\n    <tr style=\"text-align: right;\">\n      <th></th>\n      <th>0</th>\n    </tr>\n  </thead>\n  <tbody>\n    <tr>\n      <th>0</th>\n      <td>United States of America102,019,564267,1681,10...</td>\n    </tr>\n    <tr>\n      <th>1</th>\n      <td>China99,030,12997,455119,865355235.5286.8254.7</td>\n    </tr>\n    <tr>\n      <th>2</th>\n      <td>India44,686,3711,239530,77110159.7968.9716.49</td>\n    </tr>\n    <tr>\n      <th>3</th>\n      <td>France38,513,43126,390161,253170234.378.9660.88</td>\n    </tr>\n    <tr>\n      <th>4</th>\n      <td>Germany38,144,033110,846167,95173232.276.4262.67</td>\n    </tr>\n    <tr>\n      <th>5</th>\n      <td>Brazil37,024,41734,560698,947891236.2979.7951.29</td>\n    </tr>\n    <tr>\n      <th>6</th>\n      <td>Japan33,190,29692,34472,320583301.9181.6968.05</td>\n    </tr>\n    <tr>\n      <th>7</th>\n      <td>Republic of Korea30,513,72167,94633,977104265....</td>\n    </tr>\n    <tr>\n      <th>8</th>\n      <td>Italy25,576,85216,179188,094130251.882.9675.28</td>\n    </tr>\n    <tr>\n      <th>9</th>\n      <td>The United Kingdom24,370,1549,356206,95239222....</td>\n    </tr>\n    <tr>\n      <th>10</th>\n      <td>Russian Federation22,272,47082,482396,10023312...</td>\n    </tr>\n    <tr>\n      <th>11</th>\n      <td>Türkiye17,004,677101,419165.6360.9433.55</td>\n    </tr>\n    <tr>\n      <th>12</th>\n      <td>Spain13,763,3367,380119,380194237.379.1755.98</td>\n    </tr>\n    <tr>\n      <th>13</th>\n      <td>Viet Nam11,526,9058043,186273.5388.2859.33</td>\n    </tr>\n    <tr>\n      <th>14</th>\n      <td>Australia11,362,27519,370202254.3784.9156.3</td>\n    </tr>\n    <tr>\n      <th>15</th>\n      <td>Argentina10,044,125817130,4635242.6283.7268.17</td>\n    </tr>\n    <tr>\n      <th>16</th>\n      <td>Netherlands8,594,1503,42022,992207.468.6954.1</td>\n    </tr>\n    <tr>\n      <th>17</th>\n      <td>Iran (Islamic Republic of)7,567,702899144,8423...</td>\n    </tr>\n  </tbody>\n</table>\n</div>"
     },
     "execution_count": 25,
     "metadata": {},
     "output_type": "execute_result"
    }
   ],
   "source": [
    "df_country_data_list\n"
   ],
   "metadata": {
    "collapsed": false
   }
  },
  {
   "cell_type": "code",
   "execution_count": 26,
   "outputs": [],
   "source": [
    "country = table.find_all('div', {'class': 'column_name'})\n"
   ],
   "metadata": {
    "collapsed": false
   }
  },
  {
   "cell_type": "code",
   "execution_count": 27,
   "outputs": [],
   "source": [
    "country_list = []\n",
    "\n",
    "for value in country:\n",
    "    country_list.append(value.text)\n"
   ],
   "metadata": {
    "collapsed": false
   }
  },
  {
   "cell_type": "code",
   "execution_count": 28,
   "outputs": [],
   "source": [
    "df_country_list = pd.DataFrame(country_list[2:])\n"
   ],
   "metadata": {
    "collapsed": false
   }
  },
  {
   "cell_type": "code",
   "execution_count": 29,
   "outputs": [
    {
     "data": {
      "text/plain": "                             0\n0     United States of America\n1                        China\n2                        India\n3                       France\n4                      Germany\n5                       Brazil\n6                        Japan\n7            Republic of Korea\n8                        Italy\n9           The United Kingdom\n10          Russian Federation\n11                     Türkiye\n12                       Spain\n13                    Viet Nam\n14                   Australia\n15                   Argentina\n16                 Netherlands\n17  Iran (Islamic Republic of)",
      "text/html": "<div>\n<style scoped>\n    .dataframe tbody tr th:only-of-type {\n        vertical-align: middle;\n    }\n\n    .dataframe tbody tr th {\n        vertical-align: top;\n    }\n\n    .dataframe thead th {\n        text-align: right;\n    }\n</style>\n<table border=\"1\" class=\"dataframe\">\n  <thead>\n    <tr style=\"text-align: right;\">\n      <th></th>\n      <th>0</th>\n    </tr>\n  </thead>\n  <tbody>\n    <tr>\n      <th>0</th>\n      <td>United States of America</td>\n    </tr>\n    <tr>\n      <th>1</th>\n      <td>China</td>\n    </tr>\n    <tr>\n      <th>2</th>\n      <td>India</td>\n    </tr>\n    <tr>\n      <th>3</th>\n      <td>France</td>\n    </tr>\n    <tr>\n      <th>4</th>\n      <td>Germany</td>\n    </tr>\n    <tr>\n      <th>5</th>\n      <td>Brazil</td>\n    </tr>\n    <tr>\n      <th>6</th>\n      <td>Japan</td>\n    </tr>\n    <tr>\n      <th>7</th>\n      <td>Republic of Korea</td>\n    </tr>\n    <tr>\n      <th>8</th>\n      <td>Italy</td>\n    </tr>\n    <tr>\n      <th>9</th>\n      <td>The United Kingdom</td>\n    </tr>\n    <tr>\n      <th>10</th>\n      <td>Russian Federation</td>\n    </tr>\n    <tr>\n      <th>11</th>\n      <td>Türkiye</td>\n    </tr>\n    <tr>\n      <th>12</th>\n      <td>Spain</td>\n    </tr>\n    <tr>\n      <th>13</th>\n      <td>Viet Nam</td>\n    </tr>\n    <tr>\n      <th>14</th>\n      <td>Australia</td>\n    </tr>\n    <tr>\n      <th>15</th>\n      <td>Argentina</td>\n    </tr>\n    <tr>\n      <th>16</th>\n      <td>Netherlands</td>\n    </tr>\n    <tr>\n      <th>17</th>\n      <td>Iran (Islamic Republic of)</td>\n    </tr>\n  </tbody>\n</table>\n</div>"
     },
     "execution_count": 29,
     "metadata": {},
     "output_type": "execute_result"
    }
   ],
   "source": [
    "df_country_list\n"
   ],
   "metadata": {
    "collapsed": false
   }
  },
  {
   "cell_type": "code",
   "execution_count": 30,
   "outputs": [],
   "source": [
    "new_cases_7_days = table.find_all('div', {'class': 'column_Last_7_Days_Confirmed'})\n"
   ],
   "metadata": {
    "collapsed": false
   }
  },
  {
   "cell_type": "code",
   "execution_count": 31,
   "outputs": [],
   "source": [
    "new_cases_7_days_list = []\n",
    "for value in new_cases_7_days:\n",
    "    new_cases_7_days_list.append(value.text)"
   ],
   "metadata": {
    "collapsed": false
   }
  },
  {
   "cell_type": "code",
   "execution_count": 32,
   "outputs": [],
   "source": [
    "df_new_cases_7_days_list = pd.DataFrame(new_cases_7_days_list[2:])\n"
   ],
   "metadata": {
    "collapsed": false
   }
  },
  {
   "cell_type": "code",
   "execution_count": 33,
   "outputs": [
    {
     "data": {
      "text/plain": "          0\n0   267,168\n1    97,455\n2     1,239\n3    26,390\n4   110,846\n5    34,560\n6    92,344\n7    67,946\n8    16,179\n9     9,356\n10   82,482\n11         \n12    7,380\n13       80\n14         \n15      817\n16    3,420\n17      899",
      "text/html": "<div>\n<style scoped>\n    .dataframe tbody tr th:only-of-type {\n        vertical-align: middle;\n    }\n\n    .dataframe tbody tr th {\n        vertical-align: top;\n    }\n\n    .dataframe thead th {\n        text-align: right;\n    }\n</style>\n<table border=\"1\" class=\"dataframe\">\n  <thead>\n    <tr style=\"text-align: right;\">\n      <th></th>\n      <th>0</th>\n    </tr>\n  </thead>\n  <tbody>\n    <tr>\n      <th>0</th>\n      <td>267,168</td>\n    </tr>\n    <tr>\n      <th>1</th>\n      <td>97,455</td>\n    </tr>\n    <tr>\n      <th>2</th>\n      <td>1,239</td>\n    </tr>\n    <tr>\n      <th>3</th>\n      <td>26,390</td>\n    </tr>\n    <tr>\n      <th>4</th>\n      <td>110,846</td>\n    </tr>\n    <tr>\n      <th>5</th>\n      <td>34,560</td>\n    </tr>\n    <tr>\n      <th>6</th>\n      <td>92,344</td>\n    </tr>\n    <tr>\n      <th>7</th>\n      <td>67,946</td>\n    </tr>\n    <tr>\n      <th>8</th>\n      <td>16,179</td>\n    </tr>\n    <tr>\n      <th>9</th>\n      <td>9,356</td>\n    </tr>\n    <tr>\n      <th>10</th>\n      <td>82,482</td>\n    </tr>\n    <tr>\n      <th>11</th>\n      <td></td>\n    </tr>\n    <tr>\n      <th>12</th>\n      <td>7,380</td>\n    </tr>\n    <tr>\n      <th>13</th>\n      <td>80</td>\n    </tr>\n    <tr>\n      <th>14</th>\n      <td></td>\n    </tr>\n    <tr>\n      <th>15</th>\n      <td>817</td>\n    </tr>\n    <tr>\n      <th>16</th>\n      <td>3,420</td>\n    </tr>\n    <tr>\n      <th>17</th>\n      <td>899</td>\n    </tr>\n  </tbody>\n</table>\n</div>"
     },
     "execution_count": 33,
     "metadata": {},
     "output_type": "execute_result"
    }
   ],
   "source": [
    "df_new_cases_7_days_list\n"
   ],
   "metadata": {
    "collapsed": false
   }
  },
  {
   "cell_type": "code",
   "execution_count": 34,
   "outputs": [],
   "source": [
    "new_deaths_7_days = table.find_all('div', {'class': 'column_Last_7_Days_Deaths'})\n"
   ],
   "metadata": {
    "collapsed": false
   }
  },
  {
   "cell_type": "code",
   "execution_count": 35,
   "outputs": [],
   "source": [
    "new_deaths_7_days_list = []\n",
    "for value in new_deaths_7_days:\n",
    "    new_deaths_7_days_list.append(value.text)\n"
   ],
   "metadata": {
    "collapsed": false
   }
  },
  {
   "cell_type": "code",
   "execution_count": 36,
   "outputs": [],
   "source": [
    "df_new_deaths_7_days_list = pd.DataFrame(new_deaths_7_days_list[2:])\n"
   ],
   "metadata": {
    "collapsed": false
   }
  },
  {
   "cell_type": "code",
   "execution_count": 37,
   "outputs": [
    {
     "data": {
      "text/plain": "        0\n0   2,362\n1     355\n2      10\n3     170\n4      73\n5     891\n6     583\n7     104\n8     130\n9      39\n10    233\n11       \n12    194\n13       \n14    202\n15      5\n16       \n17     30",
      "text/html": "<div>\n<style scoped>\n    .dataframe tbody tr th:only-of-type {\n        vertical-align: middle;\n    }\n\n    .dataframe tbody tr th {\n        vertical-align: top;\n    }\n\n    .dataframe thead th {\n        text-align: right;\n    }\n</style>\n<table border=\"1\" class=\"dataframe\">\n  <thead>\n    <tr style=\"text-align: right;\">\n      <th></th>\n      <th>0</th>\n    </tr>\n  </thead>\n  <tbody>\n    <tr>\n      <th>0</th>\n      <td>2,362</td>\n    </tr>\n    <tr>\n      <th>1</th>\n      <td>355</td>\n    </tr>\n    <tr>\n      <th>2</th>\n      <td>10</td>\n    </tr>\n    <tr>\n      <th>3</th>\n      <td>170</td>\n    </tr>\n    <tr>\n      <th>4</th>\n      <td>73</td>\n    </tr>\n    <tr>\n      <th>5</th>\n      <td>891</td>\n    </tr>\n    <tr>\n      <th>6</th>\n      <td>583</td>\n    </tr>\n    <tr>\n      <th>7</th>\n      <td>104</td>\n    </tr>\n    <tr>\n      <th>8</th>\n      <td>130</td>\n    </tr>\n    <tr>\n      <th>9</th>\n      <td>39</td>\n    </tr>\n    <tr>\n      <th>10</th>\n      <td>233</td>\n    </tr>\n    <tr>\n      <th>11</th>\n      <td></td>\n    </tr>\n    <tr>\n      <th>12</th>\n      <td>194</td>\n    </tr>\n    <tr>\n      <th>13</th>\n      <td></td>\n    </tr>\n    <tr>\n      <th>14</th>\n      <td>202</td>\n    </tr>\n    <tr>\n      <th>15</th>\n      <td>5</td>\n    </tr>\n    <tr>\n      <th>16</th>\n      <td></td>\n    </tr>\n    <tr>\n      <th>17</th>\n      <td>30</td>\n    </tr>\n  </tbody>\n</table>\n</div>"
     },
     "execution_count": 37,
     "metadata": {},
     "output_type": "execute_result"
    }
   ],
   "source": [
    "df_new_deaths_7_days_list\n"
   ],
   "metadata": {
    "collapsed": false
   }
  },
  {
   "cell_type": "code",
   "execution_count": 38,
   "outputs": [],
   "source": [
    "new_cases_data_list_per_country = {}\n",
    "for i in range(len(df_new_cases_7_days_list)):\n",
    "    new_cases_data_list_per_country[df_country_list._get_value(i, col=0)] = df_new_cases_7_days_list._get_value(i, col=0)\n"
   ],
   "metadata": {
    "collapsed": false
   }
  },
  {
   "cell_type": "code",
   "execution_count": 39,
   "outputs": [
    {
     "data": {
      "text/plain": "{'United States of America': '267,168',\n 'China': '97,455',\n 'India': '1,239',\n 'France': '26,390',\n 'Germany': '110,846',\n 'Brazil': '34,560',\n 'Japan': '92,344',\n 'Republic of Korea': '67,946',\n 'Italy': '16,179',\n 'The United Kingdom': '9,356',\n 'Russian Federation': '82,482',\n 'Türkiye': '',\n 'Spain': '7,380',\n 'Viet Nam': '80',\n 'Australia': '',\n 'Argentina': '817',\n 'Netherlands': '3,420',\n 'Iran (Islamic Republic of)': '899'}"
     },
     "execution_count": 39,
     "metadata": {},
     "output_type": "execute_result"
    }
   ],
   "source": [
    "new_cases_data_list_per_country\n"
   ],
   "metadata": {
    "collapsed": false
   }
  },
  {
   "cell_type": "code",
   "execution_count": 40,
   "outputs": [],
   "source": [
    "new_death_cases_data_list_per_country = {}\n",
    "for i in range(len(df_new_cases_7_days_list)):\n",
    "    new_death_cases_data_list_per_country[df_country_list._get_value(i, col=0)] = df_new_deaths_7_days_list._get_value(i, col=0)\n"
   ],
   "metadata": {
    "collapsed": false
   }
  },
  {
   "cell_type": "code",
   "execution_count": 41,
   "outputs": [
    {
     "data": {
      "text/plain": "{'United States of America': '2,362',\n 'China': '355',\n 'India': '10',\n 'France': '170',\n 'Germany': '73',\n 'Brazil': '891',\n 'Japan': '583',\n 'Republic of Korea': '104',\n 'Italy': '130',\n 'The United Kingdom': '39',\n 'Russian Federation': '233',\n 'Türkiye': '',\n 'Spain': '194',\n 'Viet Nam': '',\n 'Australia': '202',\n 'Argentina': '5',\n 'Netherlands': '',\n 'Iran (Islamic Republic of)': '30'}"
     },
     "execution_count": 41,
     "metadata": {},
     "output_type": "execute_result"
    }
   ],
   "source": [
    "new_death_cases_data_list_per_country\n"
   ],
   "metadata": {
    "collapsed": false
   }
  },
  {
   "cell_type": "code",
   "execution_count": 42,
   "outputs": [],
   "source": [
    "# 3. Compare the total cases and deaths across different countries\n",
    "# using BeautifulSoup and Pandas and create visualizations to\n",
    "# compare the data."
   ],
   "metadata": {
    "collapsed": false
   }
  },
  {
   "cell_type": "code",
   "execution_count": 43,
   "outputs": [],
   "source": [
    "graph_new_cases = []\n",
    "country_list = []\n",
    "for k, v in new_cases_data_list_per_country.items():\n",
    "    v1 = v.replace(',', '')\n",
    "    v2 = pd.to_numeric(v1)\n",
    "    graph_new_cases.append(float(v2))\n",
    "    country_list.append(k)\n",
    "\n"
   ],
   "metadata": {
    "collapsed": false
   }
  },
  {
   "cell_type": "code",
   "execution_count": 44,
   "outputs": [
    {
     "data": {
      "text/plain": "[267168.0,\n 97455.0,\n 1239.0,\n 26390.0,\n 110846.0,\n 34560.0,\n 92344.0,\n 67946.0,\n 16179.0,\n 9356.0,\n 82482.0,\n nan,\n 7380.0,\n 80.0,\n nan,\n 817.0,\n 3420.0,\n 899.0]"
     },
     "execution_count": 44,
     "metadata": {},
     "output_type": "execute_result"
    }
   ],
   "source": [
    "graph_new_cases\n"
   ],
   "metadata": {
    "collapsed": false
   }
  },
  {
   "cell_type": "code",
   "execution_count": 45,
   "outputs": [
    {
     "data": {
      "text/plain": "<Figure size 640x480 with 1 Axes>",
      "image/png": "[encoded data removed]"
     },
     "metadata": {},
     "output_type": "display_data"
    }
   ],
   "source": [
    "plt.plot(graph_new_cases, country_list)\n",
    "plt.show()\n"
   ],
   "metadata": {
    "collapsed": false
   }
  },
  {
   "cell_type": "code",
   "execution_count": 46,
   "outputs": [],
   "source": [
    "graph_new_deaths = []\n",
    "country_list = []\n",
    "for k, v in new_death_cases_data_list_per_country.items():\n",
    "    v1 = v.replace(',', '')\n",
    "    v2 = pd.to_numeric(v1)\n",
    "    graph_new_deaths.append(float(v2))\n",
    "    country_list.append(k)\n"
   ],
   "metadata": {
    "collapsed": false
   }
  },
  {
   "cell_type": "code",
   "execution_count": 47,
   "outputs": [
    {
     "data": {
      "text/plain": "[2362.0,\n 355.0,\n 10.0,\n 170.0,\n 73.0,\n 891.0,\n 583.0,\n 104.0,\n 130.0,\n 39.0,\n 233.0,\n nan,\n 194.0,\n nan,\n 202.0,\n 5.0,\n nan,\n 30.0]"
     },
     "execution_count": 47,
     "metadata": {},
     "output_type": "execute_result"
    }
   ],
   "source": [
    "graph_new_deaths\n"
   ],
   "metadata": {
    "collapsed": false
   }
  },
  {
   "cell_type": "code",
   "execution_count": 48,
   "outputs": [
    {
     "data": {
      "text/plain": "<Figure size 640x480 with 1 Axes>",
      "image/png": "[encoded data removed]"
     },
     "metadata": {},
     "output_type": "display_data"
    }
   ],
   "source": [
    "plt.plot(graph_new_deaths, country_list)\n",
    "plt.show()\n"
   ],
   "metadata": {
    "collapsed": false
   }
  },
  {
   "cell_type": "code",
   "execution_count": 264,
   "outputs": [],
   "source": [
    "# 4. Extract the vaccination data for different countries and\n",
    "# visualize the vaccination rates using Pandas and Matplotlib.\n"
   ],
   "metadata": {
    "collapsed": false
   }
  },
  {
   "cell_type": "code",
   "execution_count": 265,
   "outputs": [],
   "source": [
    "total_vaccine_doses = table.find_all('div', {'class': 'column_Total_Vaccinations_Per_100'})\n"
   ],
   "metadata": {
    "collapsed": false
   }
  },
  {
   "cell_type": "code",
   "execution_count": 266,
   "outputs": [],
   "source": [
    "total_fully_vaccinated = table.find_all('div', {'class': 'column_Total_Fully_Vacc_Per_100'})\n"
   ],
   "metadata": {
    "collapsed": false
   }
  },
  {
   "cell_type": "code",
   "execution_count": 267,
   "outputs": [],
   "source": [
    "total_boosted = table.find_all('div', {'class': 'column_Total_Boosted_Per_100'})\n"
   ],
   "metadata": {
    "collapsed": false
   }
  },
  {
   "cell_type": "code",
   "execution_count": 268,
   "outputs": [],
   "source": [
    "total_vaccine_doses_list = []\n",
    "for value in total_vaccine_doses:\n",
    "    v1 = pd.to_numeric(value.text)\n",
    "    v2 = float(v1)\n",
    "    total_vaccine_doses_list.append(v2)\n"
   ],
   "metadata": {
    "collapsed": false
   }
  },
  {
   "cell_type": "code",
   "execution_count": 269,
   "outputs": [
    {
     "data": {
      "text/plain": "[nan,\n nan,\n 200.15,\n 235.52,\n 159.79,\n 234.3,\n 232.2,\n 236.29,\n 301.91,\n 265.51,\n 251.8,\n 222.8,\n 126.5,\n 165.63,\n 237.3,\n 273.53,\n 254.37,\n 242.62,\n 207.4,\n 187.86]"
     },
     "execution_count": 269,
     "metadata": {},
     "output_type": "execute_result"
    }
   ],
   "source": [
    "total_vaccine_doses_list\n"
   ],
   "metadata": {
    "collapsed": false
   }
  },
  {
   "cell_type": "code",
   "execution_count": 270,
   "outputs": [],
   "source": [
    "total_fully_vaccinated_list = []\n",
    "for value in total_fully_vaccinated:\n",
    "    v1 = pd.to_numeric(value.text)\n",
    "    v2 = float(v1)\n",
    "    total_fully_vaccinated_list.append(v2)\n"
   ],
   "metadata": {
    "collapsed": false
   }
  },
  {
   "cell_type": "code",
   "execution_count": 271,
   "outputs": [
    {
     "data": {
      "text/plain": "[nan,\n nan,\n 68.62,\n 86.82,\n 68.97,\n 78.96,\n 76.42,\n 79.79,\n 81.69,\n 86.7,\n 82.96,\n 74.59,\n 54.22,\n 60.94,\n 79.17,\n 88.28,\n 84.91,\n 83.72,\n 68.69,\n 69.7]"
     },
     "execution_count": 271,
     "metadata": {},
     "output_type": "execute_result"
    }
   ],
   "source": [
    "total_fully_vaccinated_list\n"
   ],
   "metadata": {
    "collapsed": false
   }
  },
  {
   "cell_type": "code",
   "execution_count": 272,
   "outputs": [],
   "source": [
    "total_boosted_list = []\n",
    "for value in total_boosted:\n",
    "    v1 = pd.to_numeric(value.text)\n",
    "    v2 = float(v1)\n",
    "    total_boosted_list.append(v2)\n"
   ],
   "metadata": {
    "collapsed": false
   }
  },
  {
   "cell_type": "code",
   "execution_count": 273,
   "outputs": [
    {
     "data": {
      "text/plain": "[nan,\n nan,\n 34.87,\n 54.7,\n 16.49,\n 60.88,\n 62.67,\n 51.29,\n 68.05,\n 65.63,\n 75.28,\n nan,\n nan,\n 33.55,\n 55.98,\n 59.33,\n 56.3,\n 68.17,\n 54.1,\n 37.33]"
     },
     "execution_count": 273,
     "metadata": {},
     "output_type": "execute_result"
    }
   ],
   "source": [
    "total_boosted_list\n"
   ],
   "metadata": {
    "collapsed": false
   }
  },
  {
   "cell_type": "code",
   "execution_count": 274,
   "outputs": [
    {
     "data": {
      "text/plain": "Empty DataFrame\nColumns: []\nIndex: []",
      "text/html": "<div>\n<style scoped>\n    .dataframe tbody tr th:only-of-type {\n        vertical-align: middle;\n    }\n\n    .dataframe tbody tr th {\n        vertical-align: top;\n    }\n\n    .dataframe thead th {\n        text-align: right;\n    }\n</style>\n<table border=\"1\" class=\"dataframe\">\n  <thead>\n    <tr style=\"text-align: right;\">\n      <th></th>\n    </tr>\n  </thead>\n  <tbody>\n  </tbody>\n</table>\n</div>"
     },
     "execution_count": 274,
     "metadata": {},
     "output_type": "execute_result"
    }
   ],
   "source": [
    "df_vaccinated= pd.DataFrame()\n",
    "df_vaccinated\n"
   ],
   "metadata": {
    "collapsed": false
   }
  },
  {
   "cell_type": "code",
   "execution_count": 275,
   "outputs": [],
   "source": [
    "df_vaccinated['country_list'] = country_list"
   ],
   "metadata": {
    "collapsed": false
   }
  },
  {
   "cell_type": "code",
   "execution_count": 276,
   "outputs": [],
   "source": [
    "df_vaccinated['total_vaccine_doses'] = total_vaccine_doses_list[2:]\n"
   ],
   "metadata": {
    "collapsed": false
   }
  },
  {
   "cell_type": "code",
   "execution_count": 277,
   "outputs": [
    {
     "data": {
      "text/plain": "                  country_list  total_vaccine_doses\n0     United States of America               200.15\n1                        China               235.52\n2                        India               159.79\n3                       France               234.30\n4                      Germany               232.20\n5                       Brazil               236.29\n6                        Japan               301.91\n7            Republic of Korea               265.51\n8                        Italy               251.80\n9           The United Kingdom               222.80\n10          Russian Federation               126.50\n11                     Türkiye               165.63\n12                       Spain               237.30\n13                    Viet Nam               273.53\n14                   Australia               254.37\n15                   Argentina               242.62\n16                 Netherlands               207.40\n17  Iran (Islamic Republic of)               187.86",
      "text/html": "<div>\n<style scoped>\n    .dataframe tbody tr th:only-of-type {\n        vertical-align: middle;\n    }\n\n    .dataframe tbody tr th {\n        vertical-align: top;\n    }\n\n    .dataframe thead th {\n        text-align: right;\n    }\n</style>\n<table border=\"1\" class=\"dataframe\">\n  <thead>\n    <tr style=\"text-align: right;\">\n      <th></th>\n      <th>country_list</th>\n      <th>total_vaccine_doses</th>\n    </tr>\n  </thead>\n  <tbody>\n    <tr>\n      <th>0</th>\n      <td>United States of America</td>\n      <td>200.15</td>\n    </tr>\n    <tr>\n      <th>1</th>\n      <td>China</td>\n      <td>235.52</td>\n    </tr>\n    <tr>\n      <th>2</th>\n      <td>India</td>\n      <td>159.79</td>\n    </tr>\n    <tr>\n      <th>3</th>\n      <td>France</td>\n      <td>234.30</td>\n    </tr>\n    <tr>\n      <th>4</th>\n      <td>Germany</td>\n      <td>232.20</td>\n    </tr>\n    <tr>\n      <th>5</th>\n      <td>Brazil</td>\n      <td>236.29</td>\n    </tr>\n    <tr>\n      <th>6</th>\n      <td>Japan</td>\n      <td>301.91</td>\n    </tr>\n    <tr>\n      <th>7</th>\n      <td>Republic of Korea</td>\n      <td>265.51</td>\n    </tr>\n    <tr>\n      <th>8</th>\n      <td>Italy</td>\n      <td>251.80</td>\n    </tr>\n    <tr>\n      <th>9</th>\n      <td>The United Kingdom</td>\n      <td>222.80</td>\n    </tr>\n    <tr>\n      <th>10</th>\n      <td>Russian Federation</td>\n      <td>126.50</td>\n    </tr>\n    <tr>\n      <th>11</th>\n      <td>Türkiye</td>\n      <td>165.63</td>\n    </tr>\n    <tr>\n      <th>12</th>\n      <td>Spain</td>\n      <td>237.30</td>\n    </tr>\n    <tr>\n      <th>13</th>\n      <td>Viet Nam</td>\n      <td>273.53</td>\n    </tr>\n    <tr>\n      <th>14</th>\n      <td>Australia</td>\n      <td>254.37</td>\n    </tr>\n    <tr>\n      <th>15</th>\n      <td>Argentina</td>\n      <td>242.62</td>\n    </tr>\n    <tr>\n      <th>16</th>\n      <td>Netherlands</td>\n      <td>207.40</td>\n    </tr>\n    <tr>\n      <th>17</th>\n      <td>Iran (Islamic Republic of)</td>\n      <td>187.86</td>\n    </tr>\n  </tbody>\n</table>\n</div>"
     },
     "execution_count": 277,
     "metadata": {},
     "output_type": "execute_result"
    }
   ],
   "source": [
    "df_vaccinated\n"
   ],
   "metadata": {
    "collapsed": false
   }
  },
  {
   "cell_type": "code",
   "execution_count": 278,
   "outputs": [],
   "source": [
    "df_vaccinated['total_fully_vaccinated_list'] = total_fully_vaccinated_list[2:]\n"
   ],
   "metadata": {
    "collapsed": false
   }
  },
  {
   "cell_type": "code",
   "execution_count": 279,
   "outputs": [
    {
     "data": {
      "text/plain": "                  country_list  total_vaccine_doses  \\\n0     United States of America               200.15   \n1                        China               235.52   \n2                        India               159.79   \n3                       France               234.30   \n4                      Germany               232.20   \n5                       Brazil               236.29   \n6                        Japan               301.91   \n7            Republic of Korea               265.51   \n8                        Italy               251.80   \n9           The United Kingdom               222.80   \n10          Russian Federation               126.50   \n11                     Türkiye               165.63   \n12                       Spain               237.30   \n13                    Viet Nam               273.53   \n14                   Australia               254.37   \n15                   Argentina               242.62   \n16                 Netherlands               207.40   \n17  Iran (Islamic Republic of)               187.86   \n\n    total_fully_vaccinated_list  \n0                         68.62  \n1                         86.82  \n2                         68.97  \n3                         78.96  \n4                         76.42  \n5                         79.79  \n6                         81.69  \n7                         86.70  \n8                         82.96  \n9                         74.59  \n10                        54.22  \n11                        60.94  \n12                        79.17  \n13                        88.28  \n14                        84.91  \n15                        83.72  \n16                        68.69  \n17                        69.70  ",
      "text/html": "<div>\n<style scoped>\n    .dataframe tbody tr th:only-of-type {\n        vertical-align: middle;\n    }\n\n    .dataframe tbody tr th {\n        vertical-align: top;\n    }\n\n    .dataframe thead th {\n        text-align: right;\n    }\n</style>\n<table border=\"1\" class=\"dataframe\">\n  <thead>\n    <tr style=\"text-align: right;\">\n      <th></th>\n      <th>country_list</th>\n      <th>total_vaccine_doses</th>\n      <th>total_fully_vaccinated_list</th>\n    </tr>\n  </thead>\n  <tbody>\n    <tr>\n      <th>0</th>\n      <td>United States of America</td>\n      <td>200.15</td>\n      <td>68.62</td>\n    </tr>\n    <tr>\n      <th>1</th>\n      <td>China</td>\n      <td>235.52</td>\n      <td>86.82</td>\n    </tr>\n    <tr>\n      <th>2</th>\n      <td>India</td>\n      <td>159.79</td>\n      <td>68.97</td>\n    </tr>\n    <tr>\n      <th>3</th>\n      <td>France</td>\n      <td>234.30</td>\n      <td>78.96</td>\n    </tr>\n    <tr>\n      <th>4</th>\n      <td>Germany</td>\n      <td>232.20</td>\n      <td>76.42</td>\n    </tr>\n    <tr>\n      <th>5</th>\n      <td>Brazil</td>\n      <td>236.29</td>\n      <td>79.79</td>\n    </tr>\n    <tr>\n      <th>6</th>\n      <td>Japan</td>\n      <td>301.91</td>\n      <td>81.69</td>\n    </tr>\n    <tr>\n      <th>7</th>\n      <td>Republic of Korea</td>\n      <td>265.51</td>\n      <td>86.70</td>\n    </tr>\n    <tr>\n      <th>8</th>\n      <td>Italy</td>\n      <td>251.80</td>\n      <td>82.96</td>\n    </tr>\n    <tr>\n      <th>9</th>\n      <td>The United Kingdom</td>\n      <td>222.80</td>\n      <td>74.59</td>\n    </tr>\n    <tr>\n      <th>10</th>\n      <td>Russian Federation</td>\n      <td>126.50</td>\n      <td>54.22</td>\n    </tr>\n    <tr>\n      <th>11</th>\n      <td>Türkiye</td>\n      <td>165.63</td>\n      <td>60.94</td>\n    </tr>\n    <tr>\n      <th>12</th>\n      <td>Spain</td>\n      <td>237.30</td>\n      <td>79.17</td>\n    </tr>\n    <tr>\n      <th>13</th>\n      <td>Viet Nam</td>\n      <td>273.53</td>\n      <td>88.28</td>\n    </tr>\n    <tr>\n      <th>14</th>\n      <td>Australia</td>\n      <td>254.37</td>\n      <td>84.91</td>\n    </tr>\n    <tr>\n      <th>15</th>\n      <td>Argentina</td>\n      <td>242.62</td>\n      <td>83.72</td>\n    </tr>\n    <tr>\n      <th>16</th>\n      <td>Netherlands</td>\n      <td>207.40</td>\n      <td>68.69</td>\n    </tr>\n    <tr>\n      <th>17</th>\n      <td>Iran (Islamic Republic of)</td>\n      <td>187.86</td>\n      <td>69.70</td>\n    </tr>\n  </tbody>\n</table>\n</div>"
     },
     "execution_count": 279,
     "metadata": {},
     "output_type": "execute_result"
    }
   ],
   "source": [
    "df_vaccinated\n"
   ],
   "metadata": {
    "collapsed": false
   }
  },
  {
   "cell_type": "code",
   "execution_count": 280,
   "outputs": [],
   "source": [
    "df_vaccinated['total_boosted'] = total_boosted_list[2:]\n"
   ],
   "metadata": {
    "collapsed": false
   }
  },
  {
   "cell_type": "code",
   "execution_count": 281,
   "outputs": [
    {
     "data": {
      "text/plain": "                  country_list  total_vaccine_doses  \\\n0     United States of America               200.15   \n1                        China               235.52   \n2                        India               159.79   \n3                       France               234.30   \n4                      Germany               232.20   \n5                       Brazil               236.29   \n6                        Japan               301.91   \n7            Republic of Korea               265.51   \n8                        Italy               251.80   \n9           The United Kingdom               222.80   \n10          Russian Federation               126.50   \n11                     Türkiye               165.63   \n12                       Spain               237.30   \n13                    Viet Nam               273.53   \n14                   Australia               254.37   \n15                   Argentina               242.62   \n16                 Netherlands               207.40   \n17  Iran (Islamic Republic of)               187.86   \n\n    total_fully_vaccinated_list  total_boosted  \n0                         68.62          34.87  \n1                         86.82          54.70  \n2                         68.97          16.49  \n3                         78.96          60.88  \n4                         76.42          62.67  \n5                         79.79          51.29  \n6                         81.69          68.05  \n7                         86.70          65.63  \n8                         82.96          75.28  \n9                         74.59            NaN  \n10                        54.22            NaN  \n11                        60.94          33.55  \n12                        79.17          55.98  \n13                        88.28          59.33  \n14                        84.91          56.30  \n15                        83.72          68.17  \n16                        68.69          54.10  \n17                        69.70          37.33  ",
      "text/html": "<div>\n<style scoped>\n    .dataframe tbody tr th:only-of-type {\n        vertical-align: middle;\n    }\n\n    .dataframe tbody tr th {\n        vertical-align: top;\n    }\n\n    .dataframe thead th {\n        text-align: right;\n    }\n</style>\n<table border=\"1\" class=\"dataframe\">\n  <thead>\n    <tr style=\"text-align: right;\">\n      <th></th>\n      <th>country_list</th>\n      <th>total_vaccine_doses</th>\n      <th>total_fully_vaccinated_list</th>\n      <th>total_boosted</th>\n    </tr>\n  </thead>\n  <tbody>\n    <tr>\n      <th>0</th>\n      <td>United States of America</td>\n      <td>200.15</td>\n      <td>68.62</td>\n      <td>34.87</td>\n    </tr>\n    <tr>\n      <th>1</th>\n      <td>China</td>\n      <td>235.52</td>\n      <td>86.82</td>\n      <td>54.70</td>\n    </tr>\n    <tr>\n      <th>2</th>\n      <td>India</td>\n      <td>159.79</td>\n      <td>68.97</td>\n      <td>16.49</td>\n    </tr>\n    <tr>\n      <th>3</th>\n      <td>France</td>\n      <td>234.30</td>\n      <td>78.96</td>\n      <td>60.88</td>\n    </tr>\n    <tr>\n      <th>4</th>\n      <td>Germany</td>\n      <td>232.20</td>\n      <td>76.42</td>\n      <td>62.67</td>\n    </tr>\n    <tr>\n      <th>5</th>\n      <td>Brazil</td>\n      <td>236.29</td>\n      <td>79.79</td>\n      <td>51.29</td>\n    </tr>\n    <tr>\n      <th>6</th>\n      <td>Japan</td>\n      <td>301.91</td>\n      <td>81.69</td>\n      <td>68.05</td>\n    </tr>\n    <tr>\n      <th>7</th>\n      <td>Republic of Korea</td>\n      <td>265.51</td>\n      <td>86.70</td>\n      <td>65.63</td>\n    </tr>\n    <tr>\n      <th>8</th>\n      <td>Italy</td>\n      <td>251.80</td>\n      <td>82.96</td>\n      <td>75.28</td>\n    </tr>\n    <tr>\n      <th>9</th>\n      <td>The United Kingdom</td>\n      <td>222.80</td>\n      <td>74.59</td>\n      <td>NaN</td>\n    </tr>\n    <tr>\n      <th>10</th>\n      <td>Russian Federation</td>\n      <td>126.50</td>\n      <td>54.22</td>\n      <td>NaN</td>\n    </tr>\n    <tr>\n      <th>11</th>\n      <td>Türkiye</td>\n      <td>165.63</td>\n      <td>60.94</td>\n      <td>33.55</td>\n    </tr>\n    <tr>\n      <th>12</th>\n      <td>Spain</td>\n      <td>237.30</td>\n      <td>79.17</td>\n      <td>55.98</td>\n    </tr>\n    <tr>\n      <th>13</th>\n      <td>Viet Nam</td>\n      <td>273.53</td>\n      <td>88.28</td>\n      <td>59.33</td>\n    </tr>\n    <tr>\n      <th>14</th>\n      <td>Australia</td>\n      <td>254.37</td>\n      <td>84.91</td>\n      <td>56.30</td>\n    </tr>\n    <tr>\n      <th>15</th>\n      <td>Argentina</td>\n      <td>242.62</td>\n      <td>83.72</td>\n      <td>68.17</td>\n    </tr>\n    <tr>\n      <th>16</th>\n      <td>Netherlands</td>\n      <td>207.40</td>\n      <td>68.69</td>\n      <td>54.10</td>\n    </tr>\n    <tr>\n      <th>17</th>\n      <td>Iran (Islamic Republic of)</td>\n      <td>187.86</td>\n      <td>69.70</td>\n      <td>37.33</td>\n    </tr>\n  </tbody>\n</table>\n</div>"
     },
     "execution_count": 281,
     "metadata": {},
     "output_type": "execute_result"
    }
   ],
   "source": [
    "df_vaccinated\n"
   ],
   "metadata": {
    "collapsed": false
   }
  },
  {
   "cell_type": "code",
   "execution_count": 286,
   "outputs": [],
   "source": [
    "df = df_vaccinated.set_index('country_list')\n"
   ],
   "metadata": {
    "collapsed": false
   }
  },
  {
   "cell_type": "code",
   "execution_count": 287,
   "outputs": [
    {
     "data": {
      "text/plain": "                            total_vaccine_doses  total_fully_vaccinated_list  \\\ncountry_list                                                                   \nUnited States of America                 200.15                        68.62   \nChina                                    235.52                        86.82   \nIndia                                    159.79                        68.97   \nFrance                                   234.30                        78.96   \nGermany                                  232.20                        76.42   \nBrazil                                   236.29                        79.79   \nJapan                                    301.91                        81.69   \nRepublic of Korea                        265.51                        86.70   \nItaly                                    251.80                        82.96   \nThe United Kingdom                       222.80                        74.59   \nRussian Federation                       126.50                        54.22   \nTürkiye                                  165.63                        60.94   \nSpain                                    237.30                        79.17   \nViet Nam                                 273.53                        88.28   \nAustralia                                254.37                        84.91   \nArgentina                                242.62                        83.72   \nNetherlands                              207.40                        68.69   \nIran (Islamic Republic of)               187.86                        69.70   \n\n                            total_boosted  \ncountry_list                               \nUnited States of America            34.87  \nChina                               54.70  \nIndia                               16.49  \nFrance                              60.88  \nGermany                             62.67  \nBrazil                              51.29  \nJapan                               68.05  \nRepublic of Korea                   65.63  \nItaly                               75.28  \nThe United Kingdom                    NaN  \nRussian Federation                    NaN  \nTürkiye                             33.55  \nSpain                               55.98  \nViet Nam                            59.33  \nAustralia                           56.30  \nArgentina                           68.17  \nNetherlands                         54.10  \nIran (Islamic Republic of)          37.33  ",
      "text/html": "<div>\n<style scoped>\n    .dataframe tbody tr th:only-of-type {\n        vertical-align: middle;\n    }\n\n    .dataframe tbody tr th {\n        vertical-align: top;\n    }\n\n    .dataframe thead th {\n        text-align: right;\n    }\n</style>\n<table border=\"1\" class=\"dataframe\">\n  <thead>\n    <tr style=\"text-align: right;\">\n      <th></th>\n      <th>total_vaccine_doses</th>\n      <th>total_fully_vaccinated_list</th>\n      <th>total_boosted</th>\n    </tr>\n    <tr>\n      <th>country_list</th>\n      <th></th>\n      <th></th>\n      <th></th>\n    </tr>\n  </thead>\n  <tbody>\n    <tr>\n      <th>United States of America</th>\n      <td>200.15</td>\n      <td>68.62</td>\n      <td>34.87</td>\n    </tr>\n    <tr>\n      <th>China</th>\n      <td>235.52</td>\n      <td>86.82</td>\n      <td>54.70</td>\n    </tr>\n    <tr>\n      <th>India</th>\n      <td>159.79</td>\n      <td>68.97</td>\n      <td>16.49</td>\n    </tr>\n    <tr>\n      <th>France</th>\n      <td>234.30</td>\n      <td>78.96</td>\n      <td>60.88</td>\n    </tr>\n    <tr>\n      <th>Germany</th>\n      <td>232.20</td>\n      <td>76.42</td>\n      <td>62.67</td>\n    </tr>\n    <tr>\n      <th>Brazil</th>\n      <td>236.29</td>\n      <td>79.79</td>\n      <td>51.29</td>\n    </tr>\n    <tr>\n      <th>Japan</th>\n      <td>301.91</td>\n      <td>81.69</td>\n      <td>68.05</td>\n    </tr>\n    <tr>\n      <th>Republic of Korea</th>\n      <td>265.51</td>\n      <td>86.70</td>\n      <td>65.63</td>\n    </tr>\n    <tr>\n      <th>Italy</th>\n      <td>251.80</td>\n      <td>82.96</td>\n      <td>75.28</td>\n    </tr>\n    <tr>\n      <th>The United Kingdom</th>\n      <td>222.80</td>\n      <td>74.59</td>\n      <td>NaN</td>\n    </tr>\n    <tr>\n      <th>Russian Federation</th>\n      <td>126.50</td>\n      <td>54.22</td>\n      <td>NaN</td>\n    </tr>\n    <tr>\n      <th>Türkiye</th>\n      <td>165.63</td>\n      <td>60.94</td>\n      <td>33.55</td>\n    </tr>\n    <tr>\n      <th>Spain</th>\n      <td>237.30</td>\n      <td>79.17</td>\n      <td>55.98</td>\n    </tr>\n    <tr>\n      <th>Viet Nam</th>\n      <td>273.53</td>\n      <td>88.28</td>\n      <td>59.33</td>\n    </tr>\n    <tr>\n      <th>Australia</th>\n      <td>254.37</td>\n      <td>84.91</td>\n      <td>56.30</td>\n    </tr>\n    <tr>\n      <th>Argentina</th>\n      <td>242.62</td>\n      <td>83.72</td>\n      <td>68.17</td>\n    </tr>\n    <tr>\n      <th>Netherlands</th>\n      <td>207.40</td>\n      <td>68.69</td>\n      <td>54.10</td>\n    </tr>\n    <tr>\n      <th>Iran (Islamic Republic of)</th>\n      <td>187.86</td>\n      <td>69.70</td>\n      <td>37.33</td>\n    </tr>\n  </tbody>\n</table>\n</div>"
     },
     "execution_count": 287,
     "metadata": {},
     "output_type": "execute_result"
    }
   ],
   "source": [
    "df"
   ],
   "metadata": {
    "collapsed": false
   }
  },
  {
   "cell_type": "code",
   "execution_count": 289,
   "outputs": [
    {
     "data": {
      "text/plain": "<Figure size 640x480 with 1 Axes>",
      "image/png": "[encoded data removed]"
     },
     "metadata": {},
     "output_type": "display_data"
    }
   ],
   "source": [
    "df.plot(kind='barh')\n",
    "plt.show()\n"
   ],
   "metadata": {
    "collapsed": false
   }
  }
 ],
 "metadata": {
  "kernelspec": {
   "display_name": "Python 3 (ipykernel)",
   "language": "python",
   "name": "python3"
  },
  "language_info": {
   "codemirror_mode": {
    "name": "ipython",
    "version": 3
   },
   "file_extension": ".py",
   "mimetype": "text/x-python",
   "name": "python",
   "nbconvert_exporter": "python",
   "pygments_lexer": "ipython3",
   "version": "3.11.2"
  }
 },
 "nbformat": 4,
 "nbformat_minor": 1
}
